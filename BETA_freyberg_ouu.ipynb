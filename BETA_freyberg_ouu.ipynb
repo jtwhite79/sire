{
 "cells": [
  {
   "cell_type": "code",
   "execution_count": null,
   "metadata": {},
   "outputs": [],
   "source": [
    "from __future__ import print_function\n",
    "import os\n",
    "import ipywidgets as ipyw\n",
    "import matplotlib as mpl\n",
    "import matplotlib.pyplot as plt\n",
    "import IPython\n",
    "import warnings\n",
    "warnings.filterwarnings(\"ignore\")\n",
    "import ouu_freyberg\n"
   ]
  },
  {
   "cell_type": "code",
   "execution_count": null,
   "metadata": {},
   "outputs": [],
   "source": [
    "fig,ax = ouu_freyberg.run_scenario()"
   ]
  },
  {
   "cell_type": "code",
   "execution_count": null,
   "metadata": {},
   "outputs": [],
   "source": [
    "# widget hackery\n",
    "delta_mn,delta_mx = 50.0,150.0\n",
    "risk_str = ipyw.Text(\"0.5\")\n",
    "sw_str = ipyw.Text()\n",
    "gw_str = ipyw.Text()\n",
    "str_dict = {\"surfacewater\":sw_str,\n",
    "           \"groundwater\":gw_str}\n",
    "def set_values(**kwargs):\n",
    "    for k,v in kwargs.items():\n",
    "        str_dict[k].value = str(v)\n",
    "def set_risk(risk):\n",
    "    risk_str.value = str(risk)\n",
    "    \n",
    "w = ipyw.interactive(set_values,surfacewater=(delta_mn,delta_mx,5.0),\n",
    "                     groundwater=(delta_mn,delta_mx,5.0))\n",
    "def on_button_clicked(b):  \n",
    "    risk = float(risk_str.value)\n",
    "    const_dict = {k:float(v.value) for k,v in str_dict.items()}\n",
    "    all_const_dict = ouu_freyberg.get_const_dict()\n",
    "    scen_dict = {}\n",
    "    for cn in all_const_dict.keys():\n",
    "        if cn.startswith(\"ucn\"):\n",
    "            scen_dict[cn] = const_dict[\"groundwater\"] / 100.0\n",
    "        else:\n",
    "            scen_dict[cn] = const_dict[\"surfacewater\"] / 100.0\n",
    "    fig,ax = ouu_freyberg.run_scenario(scen_dict,risk=risk)\n",
    "    \n",
    "button = ipyw.Button(description=\"Get Some Science\")\n",
    "button.on_click(on_button_clicked)"
   ]
  },
  {
   "cell_type": "code",
   "execution_count": null,
   "metadata": {
    "scrolled": false
   },
   "outputs": [],
   "source": [
    "r = ipyw.interact(set_risk,risk=(0.01,0.99,0.01))\n",
    "display(w)\n",
    "display(button)"
   ]
  },
  {
   "cell_type": "code",
   "execution_count": null,
   "metadata": {},
   "outputs": [],
   "source": []
  }
 ],
 "metadata": {
  "kernelspec": {
   "display_name": "Python 3",
   "language": "python",
   "name": "python3"
  },
  "language_info": {
   "codemirror_mode": {
    "name": "ipython",
    "version": 3
   },
   "file_extension": ".py",
   "mimetype": "text/x-python",
   "name": "python",
   "nbconvert_exporter": "python",
   "pygments_lexer": "ipython3",
   "version": "3.5.4"
  }
 },
 "nbformat": 4,
 "nbformat_minor": 2
}
