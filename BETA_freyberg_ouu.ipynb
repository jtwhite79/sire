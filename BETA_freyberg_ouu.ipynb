{
 "cells": [
  {
   "cell_type": "code",
   "execution_count": 17,
   "metadata": {},
   "outputs": [],
   "source": [
    "from __future__ import print_function\n",
    "#from ipywidgets import interact, interactive, fixed, interact_manual\n",
    "import os\n",
    "import shutil\n",
    "import platform\n",
    "import ipywidgets as ipyw\n",
    "import matplotlib as mpl\n",
    "import matplotlib.pyplot as plt\n",
    "from datetime import datetime\n",
    "import IPython\n",
    "import warnings\n",
    "warnings.filterwarnings(\"ignore\")\n",
    "import json\n",
    "from json import dumps\n",
    "import numpy as np\n",
    "import pandas as pd\n",
    "import pyemu\n"
   ]
  },
  {
   "cell_type": "code",
   "execution_count": 23,
   "metadata": {},
   "outputs": [],
   "source": [
    "base_pst_file = \"restart.pst\"\n",
    "base_dir = os.path.join(\"ouu\",\"base\")\n",
    "scen_pst_file = \"scenario.pst\"\n",
    "scen_dir = os.path.join(\"ouu\",\"scenario\")\n",
    "exe_name = \"pestpp-opt\"\n",
    "dv_group = \"k1\"\n",
    "\n",
    "if \"linux\" in platform.platform().lower():\n",
    "    bin_dir = os.path.join(\"ouu\",\"bin\",\"linux\")\n",
    "    ext = ''\n",
    "elif \"darwin\" in platform.platform().lower():\n",
    "    bin_dir = os.path.join(\"ouu\",\"bin\",\"mac\")\n",
    "    ext = ''\n",
    "else:\n",
    "    bin_dir = os.path.join(\"ouu\",\"bin\",\"win\")\n",
    "    ext = \".exe\"\n",
    "    \n",
    "def load_pst():\n",
    "    pst = pyemu.Pst(os.path.join(base_dir,base_pst_file))\n",
    "    pst.control_data.noptmax = 1\n",
    "    pst.pestpp_options = {}\n",
    "    pst.pestpp_options[\"opt_dec_var_groups\"] = dv_group\n",
    "    pst.pestpp_options[\"base_jacobian\"] = \"restart.jcb\"\n",
    "    pst.pestpp_options[\"hotstart_resfile\"] = \"restart.rei\"\n",
    "    pst.pestpp_options[\"opt_skip_final\"] = True\n",
    "    pst.pestpp_options[\"opt_std_weights\"] = True\n",
    "    pst.pestpp_options[\"opt_direction\"] = \"max\"\n",
    "    return pst"
   ]
  },
  {
   "cell_type": "code",
   "execution_count": 24,
   "metadata": {},
   "outputs": [],
   "source": [
    "def scrape_recfile(recfile):\n",
    "    infeas = False\n",
    "    with open(recfile,'r') as f:\n",
    "        for line in f:\n",
    "            if \"best objective function value\" in line:\n",
    "                phi = float(line.strip().split(':')[-1])\n",
    "                #break\n",
    "\n",
    "            if \"warning: primal solution infeasible\" in line:\n",
    "                infeas = True\n",
    "    return infeas, phi"
   ]
  },
  {
   "cell_type": "code",
   "execution_count": 25,
   "metadata": {},
   "outputs": [],
   "source": [
    "def run_pestpp_opt(const_dict,risk=0.5):\n",
    "    if os.path.exists(scen_dir):\n",
    "        shutil.rmtree(scen_dir)\n",
    "    shutil.copytree(base_dir,scen_dir)\n",
    "    shutil.copy2(os.path.join(bin_dir,exe_name+ext),os.path.join(scen_dir,exe_name+ext))\n",
    "    pst_scen = load_pst()\n",
    "    pst_scen.pestpp_options[\"opt_risk\"] = risk\n",
    "    obs = pst_scen.observation_data\n",
    "    for const_name,const_percent_change in const_dict.items():\n",
    "        const_name = const_name.lower()\n",
    "        assert const_name in obs.obsnme\n",
    "        obs.loc[const_name,\"obsval\"] *= const_percent_change\n",
    "    pst_scen.write(os.path.join(scen_dir,scen_pst_file))\n",
    "    pyemu.os_utils.run(\"{0} {1}\".format(exe_name,scen_pst_file),cwd=scen_dir)\n",
    "    infeas,phi = scrape_recfile(os.path.join(scen_dir,scen_pst_file.replace(\".pst\",\".rec\")))\n",
    "    \n",
    "    return infeas,phi\n",
    "    "
   ]
  },
  {
   "cell_type": "code",
   "execution_count": 26,
   "metadata": {},
   "outputs": [
    {
     "name": "stdout",
     "output_type": "stream",
     "text": [
      "noptmax: 1\n"
     ]
    },
    {
     "data": {
      "text/plain": [
       "(False, 20138.7)"
      ]
     },
     "execution_count": 26,
     "metadata": {},
     "output_type": "execute_result"
    }
   ],
   "source": [
    "run_pestpp_opt({})"
   ]
  },
  {
   "cell_type": "code",
   "execution_count": 22,
   "metadata": {},
   "outputs": [],
   "source": [
    "ib = np.loadtxt(os.path.join(base_dir,\"ibound_layer_1.ref\"))"
   ]
  },
  {
   "cell_type": "code",
   "execution_count": 7,
   "metadata": {},
   "outputs": [],
   "source": [
    "pst = load_pst()"
   ]
  },
  {
   "cell_type": "code",
   "execution_count": 8,
   "metadata": {},
   "outputs": [],
   "source": [
    "const_names = [name for name in pst.nnz_obs_names if pst.observation_data.loc[name,\"obgnme\"].startswith(\"less_\")]"
   ]
  },
  {
   "cell_type": "code",
   "execution_count": 9,
   "metadata": {},
   "outputs": [
    {
     "data": {
      "text/plain": [
       "['sfrc30_1_07300.00',\n",
       " 'ucn_00_008_015_001',\n",
       " 'ucn_00_010_012_001',\n",
       " 'ucn_00_019_013_001',\n",
       " 'ucn_00_025_009_001',\n",
       " 'ucn_00_028_005_001',\n",
       " 'ucn_00_033_011_001']"
      ]
     },
     "execution_count": 9,
     "metadata": {},
     "output_type": "execute_result"
    }
   ],
   "source": [
    "const_names"
   ]
  },
  {
   "cell_type": "code",
   "execution_count": 10,
   "metadata": {},
   "outputs": [
    {
     "name": "stdout",
     "output_type": "stream",
     "text": [
      "noptmax: 1\n"
     ]
    },
    {
     "data": {
      "text/plain": [
       "(False, 3.19744e-14)"
      ]
     },
     "execution_count": 10,
     "metadata": {},
     "output_type": "execute_result"
    }
   ],
   "source": [
    "const_dict = {cn:1.2 for cn in const_names}\n",
    "run_pestpp_opt(const_dict,risk=0.1)"
   ]
  },
  {
   "cell_type": "code",
   "execution_count": null,
   "metadata": {},
   "outputs": [],
   "source": []
  }
 ],
 "metadata": {
  "kernelspec": {
   "display_name": "Python 3",
   "language": "python",
   "name": "python3"
  },
  "language_info": {
   "codemirror_mode": {
    "name": "ipython",
    "version": 3
   },
   "file_extension": ".py",
   "mimetype": "text/x-python",
   "name": "python",
   "nbconvert_exporter": "python",
   "pygments_lexer": "ipython3",
   "version": "3.5.4"
  }
 },
 "nbformat": 4,
 "nbformat_minor": 2
}
