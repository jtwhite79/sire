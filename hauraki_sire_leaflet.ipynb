{
 "cells": [
  {
   "cell_type": "markdown",
   "metadata": {},
   "source": [
    "# SIRE \n",
    "### stochastic impulse response emulator\n",
    "\n",
    "import heaps of python"
   ]
  },
  {
   "cell_type": "code",
   "execution_count": null,
   "metadata": {},
   "outputs": [],
   "source": [
    "from __future__ import print_function\n",
    "#from ipywidgets import interact, interactive, fixed, interact_manual\n",
    "import os\n",
    "import ipywidgets as ipyw\n",
    "import matplotlib as mpl\n",
    "import matplotlib.pyplot as plt\n",
    "import ipyleaflet as ipyl\n",
    "from datetime import datetime\n",
    "import IPython\n",
    "import warnings\n",
    "warnings.filterwarnings(\"ignore\")\n",
    "import json\n",
    "from json import dumps\n",
    "import numpy as np\n",
    "import pandas as pd\n",
    "import pyemu\n",
    "\n",
    "import hauraki_sire"
   ]
  },
  {
   "cell_type": "markdown",
   "metadata": {},
   "source": [
    "# Land Use Sector Map"
   ]
  },
  {
   "cell_type": "code",
   "execution_count": null,
   "metadata": {},
   "outputs": [],
   "source": [
    "with open(os.path.join(\"sire\",\"sire_sector.json\"),\"r\") as f:\n",
    "    data = json.load(f)\n",
    "labellu = ipyw.Label(layout=ipyw.Layout(width='100%'))\n",
    "def hover_handler(event=None, id=None, properties=None):\n",
    "    labellu.value = properties[\"secConcord\"]\n",
    "\n",
    "geo = ipyl.GeoJSON(data=data)\n",
    "geo.on_hover(hover_handler)\n",
    "mlu = ipyl.Map(center=[-37.65,175.65], zoom=10,layout=ipyw.Layout(height=\"10in\",width=\"6in\"))\n",
    "mlu.add_layer(geo);\n",
    "# ipyw.VBox([labellu,mlu])"
   ]
  },
  {
   "cell_type": "markdown",
   "metadata": {},
   "source": [
    "### A bunch of widget hackery"
   ]
  },
  {
   "cell_type": "code",
   "execution_count": null,
   "metadata": {},
   "outputs": [],
   "source": [
    "\n",
    "m_sfr = ipyl.Map(center=[-37.65,175.65], zoom=10,layout=ipyw.Layout(height=\"10in\",width=\"6in\"))\n",
    "m_ucn = ipyl.Map(center=[-37.65,175.65], zoom=10,layout=ipyw.Layout(height=\"10in\",width=\"6in\"))\n",
    "\n",
    "\n",
    "with open(os.path.join(\"sire\",\"sire_sfr.json\"),\"r\") as f:\n",
    "    sfr_data = json.load(f)\n",
    "\n",
    "with open(os.path.join(\"sire\",\"sire_grid.json\"),\"r\") as f:\n",
    "    ucn_data = json.load(f)    \n",
    "    \n",
    "# widget hackery\n",
    "lu_mn,lu_mx = -10,10 #min and max landuse change\n",
    "risk_str = ipyw.Text()\n",
    "dairy_str = ipyw.Text()\n",
    "hort_str = ipyw.Text()\n",
    "snb_str = ipyw.Text()\n",
    "forestry_str = ipyw.Text()\n",
    "other_str = ipyw.Text()\n",
    "str_dict = {\"dairy\":dairy_str,\n",
    "           \"hort\":hort_str,\"snb\":snb_str,\n",
    "           \"forestry\":forestry_str,\n",
    "           \"other\":other_str}\n",
    "def set_values(**kwargs):\n",
    "    for k,v in kwargs.items():\n",
    "        str_dict[k].value = str(v)\n",
    "def set_risk(risk):\n",
    "    risk_str.value = str(risk)\n",
    "w = ipyw.interactive(set_values,dairy=(lu_mn,lu_mx,1),\n",
    "                hort=(lu_mn,lu_mx,1),snb=(lu_mn,lu_mx,1),\n",
    "                forestry=(lu_mn,lu_mx,1),\n",
    "                other=(lu_mn,lu_mx,1))\n",
    "\n",
    "i = IPython.display.Audio(\"dang.mp3\",autoplay=True)\n",
    "\n",
    "label_sfr = ipyw.Label(layout=ipyw.Layout(width='100%'))\n",
    "def sfr_hover_handler(event=None, id=None, properties=None):\n",
    "    label_sfr.value = \"reachid:{0}, response (mg/l):{1:15.6E}\".format(properties[\"reachID\"],properties[\"response\"])\n",
    "label_ucn = ipyw.Label(layout=ipyw.Layout(width='100%'))\n",
    "def ucn_hover_handler(event=None, id=None, properties=None):\n",
    "    label_ucn.value = \"row:{0}, col:{1}, response (mg/l):{2:15.6E}\".format(properties[\"row\"],\n",
    "                                                                           properties[\"column\"],\n",
    "                                                                           properties[\"response\"])\n",
    "\n",
    "def on_button_clicked(b):  \n",
    "    tol = 1.0e-3\n",
    "    risk = float(risk_str.value)\n",
    "    lu_dict = {k:float(v.value) for k,v in str_dict.items()}\n",
    "    print(\"calculating...\",end='')\n",
    "    s = datetime.now()\n",
    "    df = hauraki_sire.sire_lu_scenario(lu_dict,risk=risk)\n",
    "    print(\"took:\",(datetime.now()-s).total_seconds())\n",
    "    print(\"plotting...\",end='')\n",
    "    start = datetime.now()\n",
    "    #hauraki_sire.plot_sire(df,show=True)\n",
    "    \n",
    "    #df = pd.read_csv(os.path.join(\"sire\",\"sire_results.csv\"))\n",
    "    df.loc[:,\"response\"] *= 1000\n",
    "    \n",
    "    \n",
    "    df_sfr = df.loc[df.obsnme.apply(lambda x: x.startswith('sfr')),:].copy()\n",
    "    df_sfr.loc[:,\"reach\"] = df_sfr.obsnme.apply(lambda x: int(x.split('_')[0][4:]))\n",
    "    df_sfr.index = df_sfr.reach\n",
    "    df_sfr.loc[:,\"normed\"] = mpl.colors.Normalize()(df_sfr.response.values)\n",
    "    rdict = df_sfr.response.to_dict()\n",
    "    colormap=mpl.cm.jet\n",
    "    df_sfr.loc[:,\"color\"] = [mpl.colors.rgb2hex(d[0:3]) for d in colormap(df_sfr.normed.values)]\n",
    "    cdict = df_sfr.color.to_dict()\n",
    "    for i,feature in enumerate(sfr_data[\"features\"]):\n",
    "        reachid = feature[\"properties\"][\"reachID\"]\n",
    "        if np.abs(df_sfr.loc[reachid,\"response\"]) < tol:\n",
    "            color=\"#676565\"\n",
    "        else:\n",
    "            color = cdict[reachid]\n",
    "        sfr_data[\"features\"][i][\"properties\"][\"style\"][\"fillColor\"] = color\n",
    "        sfr_data[\"features\"][i][\"properties\"][\"style\"][\"color\"] = color\n",
    "        sfr_data[\"features\"][i][\"properties\"][\"style\"][\"weight\"] = 2.0\n",
    "        sfr_data[\"features\"][i][\"properties\"][\"response\"] = rdict[reachid]\n",
    "    geo = ipyl.GeoJSON(data=sfr_data)\n",
    "    geo.on_hover(sfr_hover_handler)\n",
    "    m_sfr.add_layer(geo) \n",
    "    \n",
    "    df_ucn = df.loc[df.index.map(lambda x: x.startswith(\"ucn\")),:].copy()\n",
    "    df_ucn = df_ucn.loc[df_ucn.response.apply(np.abs)<1.0e+10,:]\n",
    "    df_ucn.loc[:, \"i\"] = df_ucn.obsnme.apply(lambda x: int(x.split('_')[2]))\n",
    "    df_ucn.loc[:, \"j\"] = df_ucn.obsnme.apply(lambda x: int(x.split('_')[3]))\n",
    "    df_ucn.loc[:,\"rowcol\"] = df_ucn.apply(lambda x: \"{0:03d}_{1:03d}\".format(x.i+1,x.j+1),axis=1)\n",
    "    df_ucn.index = df_ucn.rowcol\n",
    "    df_ucn.loc[:,\"normed\"] = mpl.colors.Normalize()(df_ucn.response.values)\n",
    "    rdict = df_ucn.response.to_dict()\n",
    "    colormap=mpl.cm.jet\n",
    "    df_ucn.loc[:,\"color\"] = [mpl.colors.rgb2hex(d[0:3]) for d in colormap(df_ucn.normed.values)]\n",
    "    cdict = df_ucn.color.to_dict()\n",
    "    for i,feature in enumerate(ucn_data[\"features\"]):\n",
    "        rowcol = feature[\"properties\"][\"rowcol\"]\n",
    "        if rowcol not in rdict:\n",
    "            rdict[rowcol] = 0.0\n",
    "            color = \"#676565\"\n",
    "        elif np.abs(df_ucn.loc[rowcol,\"response\"]) < tol:\n",
    "            color=\"#676565\"\n",
    "        else:\n",
    "            color = cdict[rowcol]  \n",
    "        ucn_data[\"features\"][i][\"properties\"][\"style\"][\"fillColor\"] = color\n",
    "        ucn_data[\"features\"][i][\"properties\"][\"style\"][\"color\"] = color\n",
    "        ucn_data[\"features\"][i][\"properties\"][\"style\"][\"weight\"] = 2.0\n",
    "        ucn_data[\"features\"][i][\"properties\"][\"response\"] = rdict[rowcol]\n",
    "    geo = ipyl.GeoJSON(data=ucn_data)\n",
    "    geo.on_hover(ucn_hover_handler)\n",
    "    m_ucn.add_layer(geo) \n",
    "    print(\"took:\",(datetime.now() - start).total_seconds())\n",
    "    \n",
    "button = ipyw.Button(description=\"Get Some Science\")\n",
    "button.on_click(on_button_clicked)\n",
    "print(\"ready!\")\n",
    "#i"
   ]
  },
  {
   "cell_type": "markdown",
   "metadata": {},
   "source": [
    "# Let's do this!"
   ]
  },
  {
   "cell_type": "code",
   "execution_count": null,
   "metadata": {
    "scrolled": false
   },
   "outputs": [],
   "source": [
    "\n",
    "\n",
    "r = ipyw.interact(set_risk,risk=(0.01,0.99,0.01))\n",
    "display(w)\n",
    "display(button)\n",
    "#ipyw.HBox([ipyw.VBox([labellu,mlu]),ipyw.VBox([label_sfr,m_sfr])])\n",
    "ipyw.HBox([ipyw.VBox([label_ucn,m_ucn]),ipyw.VBox([label_sfr,m_sfr])])"
   ]
  },
  {
   "cell_type": "code",
   "execution_count": null,
   "metadata": {},
   "outputs": [],
   "source": []
  },
  {
   "cell_type": "code",
   "execution_count": null,
   "metadata": {},
   "outputs": [],
   "source": []
  }
 ],
 "metadata": {
  "kernelspec": {
   "display_name": "Python 3",
   "language": "python",
   "name": "python3"
  },
  "language_info": {
   "codemirror_mode": {
    "name": "ipython",
    "version": 3
   },
   "file_extension": ".py",
   "mimetype": "text/x-python",
   "name": "python",
   "nbconvert_exporter": "python",
   "pygments_lexer": "ipython3",
   "version": "3.5.4"
  }
 },
 "nbformat": 4,
 "nbformat_minor": 2
}
