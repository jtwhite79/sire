{
 "cells": [
  {
   "cell_type": "markdown",
   "metadata": {},
   "source": [
    "# SIRE \n",
    "### stochastic impulse response emulator\n",
    "\n",
    "import heaps of python"
   ]
  },
  {
   "cell_type": "code",
   "execution_count": 1,
   "metadata": {},
   "outputs": [
    {
     "name": "stdout",
     "output_type": "stream",
     "text": [
      "no mprj\n"
     ]
    }
   ],
   "source": [
    "% matplotlib inline\n",
    "%config InlineBackend.close_figures=False \n",
    "from __future__ import print_function\n",
    "#from ipywidgets import interact, interactive, fixed, interact_manual\n",
    "# import jtplot module in notebook\n",
    "import os\n",
    "import ipywidgets as ipyw\n",
    "import matplotlib as mpl\n",
    "import matplotlib.pyplot as plt\n",
    "import ipyleaflet as ipyl\n",
    "from datetime import datetime\n",
    "import IPython\n",
    "import warnings\n",
    "warnings.filterwarnings(\"ignore\")\n",
    "import json\n",
    "from json import dumps\n",
    "import numpy as np\n",
    "import pandas as pd\n",
    "import pyemu\n",
    "\n",
    "import hauraki_sire"
   ]
  },
  {
   "cell_type": "markdown",
   "metadata": {},
   "source": [
    "# Land Use Sector Map"
   ]
  },
  {
   "cell_type": "code",
   "execution_count": 2,
   "metadata": {},
   "outputs": [],
   "source": [
    "# with open(os.path.join(\"sire\",\"sire_sector.json\"),\"r\") as f:\n",
    "#     lu_data = json.load(f)\n",
    "# labellu = ipyw.Label(layout=ipyw.Layout(width='100%'))\n",
    "# def hover_handler(event=None, id=None, properties=None):\n",
    "#     labellu.value = properties[\"secConcord\"]\n",
    "\n",
    "# geo = ipyl.GeoJSON(data=lu_data)\n",
    "# geo.on_hover(hover_handler)\n",
    "# mlu = ipyl.Map(center=[-37.65,175.65], zoom=10,layout=ipyw.Layout(height=\"10in\",width=\"6in\"))\n",
    "# mlu.add_layer(geo);\n",
    "# ipyw.VBox([labellu,mlu])"
   ]
  },
  {
   "cell_type": "markdown",
   "metadata": {},
   "source": [
    "### A bunch of widget hackery"
   ]
  },
  {
   "cell_type": "code",
   "execution_count": 28,
   "metadata": {},
   "outputs": [
    {
     "name": "stdout",
     "output_type": "stream",
     "text": [
      "ready!\n"
     ]
    }
   ],
   "source": [
    "m_load = ipyl.Map(center=[-37.65,175.65], zoom=9,layout=ipyw.Layout(height=\"6in\",width=\"3in\"))\n",
    "m_sfr = ipyl.Map(center=[-37.65,175.65], zoom=9,layout=ipyw.Layout(height=\"6in\",width=\"3in\"))\n",
    "m_ucn = ipyl.Map(center=[-37.65,175.65], zoom=9,layout=ipyw.Layout(height=\"6in\",width=\"3in\"))\n",
    "\n",
    "\n",
    "# with open(os.path.join(\"sire\",\"sire_sfr.json\"),\"r\") as f:\n",
    "#     sfr_data = json.load(f)\n",
    "\n",
    "# with open(os.path.join(\"sire\",\"sire_grid.json\"),\"r\") as f:\n",
    "#     ucn_data = json.load(f)    \n",
    "    \n",
    "# with open(os.path.join(\"sire\",\"sire_grid.json\"),\"r\") as f:\n",
    "#     load_data = json.load(f) \n",
    "# widget hackery\n",
    "lu_mn,lu_mx = -10,10 #min and max landuse change\n",
    "status_str = ipyw.Text()\n",
    "risk_str = ipyw.Text()\n",
    "dairy_str = ipyw.Text()\n",
    "hort_str = ipyw.Text()\n",
    "snb_str = ipyw.Text()\n",
    "forestry_str = ipyw.Text()\n",
    "other_str = ipyw.Text()\n",
    "str_dict = {\"dairy\":dairy_str,\n",
    "           \"hort\":hort_str,\"snb\":snb_str,\n",
    "           \"forestry\":forestry_str,\n",
    "           \"other\":other_str}\n",
    "def set_values(**kwargs):\n",
    "    for k,v in kwargs.items():\n",
    "        str_dict[k].value = str(v)\n",
    "def set_risk(risk):\n",
    "    risk_str.value = str(risk)\n",
    "w = ipyw.interactive(set_values,dairy=(lu_mn,lu_mx,1),\n",
    "                hort=(lu_mn,lu_mx,1),snb=(lu_mn,lu_mx,1),\n",
    "                forestry=(lu_mn,lu_mx,1),\n",
    "                other=(lu_mn,lu_mx,1))\n",
    "\n",
    "i = IPython.display.Audio(\"Dang.mp3\",autoplay=True)\n",
    "\n",
    "ax_lab_load = ipyw.Label(layout=ipyw.Layout(width='100%'))\n",
    "ax_lab_load.value = \"N loading change (delta kg/day)\"\n",
    "ax_lab_sw = ipyw.Label(layout=ipyw.Layout(width='100%'))\n",
    "ax_lab_sw.value = \"SW concentration change (delta mg/l)\"\n",
    "ax_lab_gw = ipyw.Label(layout=ipyw.Layout(width='100%'))\n",
    "ax_lab_gw.value = \"GW concentration change (delta mg/l)\"\n",
    "\n",
    "label_load = ipyw.Label(layout=ipyw.Layout(width='100%'))\n",
    "def load_hover_handler(event=None, id=None, properties=None):\n",
    "    label_load.value = \"row:{0}, col:{1}, delta kg:{2:8.2G}\".format(properties[\"row\"],\n",
    "                                                                           properties[\"column\"],\n",
    "                                                                           properties[\"response\"])\n",
    "\n",
    "label_sfr = ipyw.Label(layout=ipyw.Layout(width='100%'))\n",
    "def sfr_hover_handler(event=None, id=None, properties=None):\n",
    "    label_sfr.value = \"reachid:{0}, response (mg/l):{1:8.2G}\".format(properties[\"reachID\"],\n",
    "                                                                     properties[\"response\"])\n",
    "\n",
    "label_ucn = ipyw.Label(layout=ipyw.Layout(width='100%'))\n",
    "def ucn_hover_handler(event=None, id=None, properties=None):\n",
    "    label_ucn.value = \"row:{0}, col:{1}, response (mg/l):{2:8.2G}\".format(properties[\"row\"],\n",
    "                                                                           properties[\"column\"],\n",
    "                                                                          properties[\"response\"])\n",
    "\n",
    "plt.ioff()\n",
    "\n",
    "fig_ucn = plt.figure(figsize=(4.5,4.5))\n",
    "ax_ucn=plt.subplot(111)\n",
    "out_ucn=ipyw.Output()    \n",
    "def ucn_on_click(event=None, id=None, properties=None):\n",
    "#     ax_unc.clear()\n",
    "#     ax_unc.plot(np.random.randn(100),np.random.randn(100),'+')\n",
    "#     ax_unc.set_xlim(-3,3)\n",
    "#     ax_unc.set_ylim(-3,3)\n",
    "#     ax_unc.set_yticklabels([])  \n",
    "#     with out_unc:\n",
    "#         IPython.display.clear_output(wait=True)\n",
    "#         IPython.display.display(ax_unc.figure)\n",
    "    #print(properties)\n",
    "    ax = ax_ucn\n",
    "    ax.clear()\n",
    "    if properties is None:\n",
    "        ax.set_xticklabels([])\n",
    "        ax.set_yticklabels([])\n",
    "        ax.text(0.5,0.5,\"click on a cell\\nto plot\",ha=\"center\",va=\"center\",transform=ax.transAxes)\n",
    "        \n",
    "        with out_ucn:\n",
    "            \n",
    "            IPython.display.clear_output(wait=True)\n",
    "            IPython.display.display(ax.figure)\n",
    "        return\n",
    "    \n",
    "    #ax_sfr.plot(np.random.randn(100),np.random.randn(100),'+')\n",
    "    #ax_sfr.set_xlim(-3,3)\n",
    "    #ax_sfr.set_ylim(-3,3)\n",
    "    resp,resp_org = properties[\"response\"],properties[\"response_org\"]\n",
    "    risk,std = float(risk_str.value),properties[\"std\"]\n",
    "    c = properties[\"style\"][\"fillColor\"]\n",
    "    x,y = pyemu.plot.plot_utils.gaussian_distribution(resp_org,std)\n",
    "    ax.fill_between(x,0,y,alpha=0.5,facecolor=c)\n",
    "    ymn,ymx = ax.get_ylim()\n",
    "    ax.plot([resp,resp],[ymn,ymx],\"k--\")\n",
    "    ax.set_yticklabels([])\n",
    "    ax.set_ylim(ymn,ymx)\n",
    "    \n",
    "    ax.set_title(\"row:{0}, col:{1}, std:{2:10.3f}\".format(properties[\"row\"],properties[\"column\"],std))\n",
    "    ax.set_xlabel(\"response ($\\\\Delta\\\\frac{mg}{l}$)\")\n",
    "    ax.grid()\n",
    "    \n",
    "    with out_ucn:\n",
    "        IPython.display.clear_output(wait=True)\n",
    "        IPython.display.display(ax.figure)\n",
    "\n",
    "\n",
    "fig_sfr = plt.figure(figsize=(4.5,4.5))\n",
    "ax_sfr=plt.subplot(111)\n",
    "out_sfr=ipyw.Output()    \n",
    "def sfr_on_click(event=None, id=None, properties=None):\n",
    "    #print(properties)\n",
    "    ax = ax_sfr\n",
    "    ax.clear()\n",
    "    if properties is None:\n",
    "        ax.text(0.5,0.5,\"click on a reach\\nto plot\",ha=\"center\",va=\"center\",transform=ax.transAxes)\n",
    "        ax.set_xticklabels([])\n",
    "        ax.set_yticklabels([])\n",
    "        with out_sfr:\n",
    "            \n",
    "            IPython.display.clear_output(wait=True)\n",
    "            IPython.display.display(ax.figure)\n",
    "        return\n",
    "    \n",
    "    #ax_sfr.plot(np.random.randn(100),np.random.randn(100),'+')\n",
    "    #ax_sfr.set_xlim(-3,3)\n",
    "    #ax_sfr.set_ylim(-3,3)\n",
    "    resp,resp_org = properties[\"response\"],properties[\"response_org\"]\n",
    "    risk,std = float(risk_str.value),properties[\"std\"]\n",
    "    c = properties[\"style\"][\"fillColor\"]\n",
    "    x,y = pyemu.plot.plot_utils.gaussian_distribution(resp_org,std)\n",
    "    ax.fill_between(x,0,y,alpha=0.5,facecolor=c)\n",
    "    ymn,ymx = ax.get_ylim()\n",
    "    ax.plot([resp,resp],[ymn,ymx],\"k--\")\n",
    "    ax.set_yticklabels([])\n",
    "    ax.set_ylim(ymn,ymx)\n",
    "    ax.grid()\n",
    "    ax.set_xlabel(\"response ($\\\\Delta\\\\frac{mg}{l}$)\")\n",
    "    ax.set_title(\"reach:{0}, std:{1:10.3f}\".format(properties[\"reachID\"],std))\n",
    "    \n",
    "    with out_sfr:\n",
    "        IPython.display.clear_output(wait=True)\n",
    "        IPython.display.display(ax.figure)\n",
    "\n",
    "fig_cb = plt.figure(figsize=(4.5,4.5))\n",
    "ax_cb_load=plt.subplot(311)\n",
    "ax_cb_gw=plt.subplot(312)\n",
    "ax_cb_sfr=plt.subplot(313)\n",
    "out_cb=ipyw.Output()         \n",
    "out_cb_gw=ipyw.Output()         \n",
    "\n",
    "out_cb_sfr=ipyw.Output()         \n",
    "\n",
    "gradient = np.linspace(0, 1, 256)\n",
    "gradient = np.vstack((gradient, gradient))\n",
    "        \n",
    "def on_button_clicked(b):  \n",
    "    status_str.value = ''\n",
    "    tol = 1.0e-3\n",
    "    risk = float(risk_str.value)\n",
    "    #risk = 0.025\n",
    "    status_str.value += \"calculating...\"\n",
    "    start = datetime.now()\n",
    "    lu_dict = {k:float(v.value) for k,v in str_dict.items()} \n",
    "    #status_str.value += \"took: {0}\".format((datetime.now()-s).total_seconds())\n",
    "    status_str.value += \"plotting...\"\n",
    "    #start = datetime.now()\n",
    "    s = datetime.now()\n",
    "    sfr_data,ucn_data,load_data, lim_dict = hauraki_sire.sire_lu_scenario_json(lu_dict,risk=risk)\n",
    "    geo = ipyl.GeoJSON(data=load_data)\n",
    "    geo.on_hover(load_hover_handler)\n",
    "    m_load.add_layer(geo) \n",
    "    geo = ipyl.GeoJSON(data=sfr_data)\n",
    "    geo.on_hover(sfr_hover_handler)\n",
    "    geo.on_click(sfr_on_click)\n",
    "    m_sfr.add_layer(geo) \n",
    "    geo = ipyl.GeoJSON(data=ucn_data)\n",
    "    geo.on_hover(ucn_hover_handler)\n",
    "    geo.on_click(ucn_on_click)\n",
    "    m_ucn.add_layer(geo)\n",
    "    sfr_on_click()\n",
    "    ucn_on_click()\n",
    "\n",
    "    ax_cb_load.clear()\n",
    "    ax_cb_gw.clear()\n",
    "    ax_cb_sfr.clear()\n",
    "    mpl.colorbar.ColorbarBase(ax_cb_load,cmap=\"jet\",orientation=\"horizontal\")\n",
    "#     with out_cb_load:\n",
    "#         IPython.display.clear_output(wait=True)\n",
    "#         IPython.display.display(ax_cb_load.figure)\n",
    "#     with out_cb_gw:\n",
    "#         IPython.display.clear_output(wait=True)\n",
    "#         IPython.display.display(ax_gw_load.figure)\n",
    "#     with out_cb_sfr:\n",
    "#         IPython.display.clear_output(wait=True)\n",
    "#         IPython.display.display(ax_cb_sfr.figure)\n",
    "    with out_cb_load:\n",
    "         IPython.display.clear_output(wait=True)\n",
    "         IPython.display.display(fig_cb)\n",
    "    status_str.value += \"took:{0}\".format((datetime.now() - start).total_seconds())\n",
    "    \n",
    "\n",
    "button = ipyw.Button(description=\"Get Some Science\")\n",
    "button.on_click(on_button_clicked)\n",
    "print(\"ready!\")\n",
    "#i"
   ]
  },
  {
   "cell_type": "code",
   "execution_count": null,
   "metadata": {},
   "outputs": [],
   "source": []
  },
  {
   "cell_type": "markdown",
   "metadata": {},
   "source": [
    "# Let's do this!"
   ]
  },
  {
   "cell_type": "code",
   "execution_count": 29,
   "metadata": {
    "scrolled": false
   },
   "outputs": [
    {
     "name": "stdout",
     "output_type": "stream",
     "text": [
      "risk = probability that the nitrate concentration change\n",
      "       is less than what is shown\n"
     ]
    },
    {
     "data": {
      "application/vnd.jupyter.widget-view+json": {
       "model_id": "d0a33ce6239f41269bb40eb22c2f5188",
       "version_major": 2,
       "version_minor": 0
      },
      "text/plain": [
       "interactive(children=(FloatSlider(value=0.5, description='risk', max=0.99, min=0.01, step=0.01), Output()), _d…"
      ]
     },
     "metadata": {},
     "output_type": "display_data"
    },
    {
     "name": "stdout",
     "output_type": "stream",
     "text": [
      "percent change in nitrate loading by land use sector\n"
     ]
    },
    {
     "data": {
      "application/vnd.jupyter.widget-view+json": {
       "model_id": "5c9a525011fa486b99b96c089f436537",
       "version_major": 2,
       "version_minor": 0
      },
      "text/plain": [
       "interactive(children=(IntSlider(value=0, description='snb', max=10, min=-10), IntSlider(value=0, description='…"
      ]
     },
     "metadata": {},
     "output_type": "display_data"
    },
    {
     "data": {
      "application/vnd.jupyter.widget-view+json": {
       "model_id": "4c22ce15911e4664b576d35ff101a664",
       "version_major": 2,
       "version_minor": 0
      },
      "text/plain": [
       "Button(description='Get Some Science', style=ButtonStyle())"
      ]
     },
     "metadata": {},
     "output_type": "display_data"
    },
    {
     "data": {
      "application/vnd.jupyter.widget-view+json": {
       "model_id": "d5e4efda4b194fbc8a33e0872675ddf3",
       "version_major": 2,
       "version_minor": 0
      },
      "text/plain": [
       "Text(value='')"
      ]
     },
     "metadata": {},
     "output_type": "display_data"
    },
    {
     "data": {
      "application/vnd.jupyter.widget-view+json": {
       "model_id": "3ef91ee87e0a43e28cff1d5226c59c6e",
       "version_major": 2,
       "version_minor": 0
      },
      "text/plain": [
       "HBox(children=(VBox(children=(Label(value='N loading change (delta kg/day)', layout=Layout(width='100%')), Lab…"
      ]
     },
     "metadata": {},
     "output_type": "display_data"
    }
   ],
   "source": [
    "print(\"risk = probability that the nitrate concentration change\\n       is less than what is shown\")\n",
    "r = ipyw.interact(set_risk,risk=(0.01,0.99,0.01))\n",
    "print(\"percent change in nitrate loading by land use sector\")\n",
    "display(w)\n",
    "display(button)\n",
    "display(status_str)\n",
    "#ipyw.HBox([ipyw.VBox([labellu,mlu]),ipyw.VBox([label_sfr,m_sfr])])\n",
    "ipyw.HBox([ipyw.VBox([ax_lab_load,label_load,m_load,out_cb_load,out_cb_gw,out_cb_sfr]),\n",
    "           ipyw.VBox([ax_lab_gw,label_ucn,m_ucn,out_ucn]),\n",
    "           ipyw.VBox([ax_lab_sw,label_sfr,m_sfr,out_sfr])])"
   ]
  },
  {
   "cell_type": "code",
   "execution_count": null,
   "metadata": {},
   "outputs": [],
   "source": []
  },
  {
   "cell_type": "code",
   "execution_count": null,
   "metadata": {},
   "outputs": [],
   "source": []
  },
  {
   "cell_type": "code",
   "execution_count": null,
   "metadata": {},
   "outputs": [],
   "source": []
  },
  {
   "cell_type": "code",
   "execution_count": null,
   "metadata": {},
   "outputs": [],
   "source": []
  }
 ],
 "metadata": {
  "kernelspec": {
   "display_name": "Python 3",
   "language": "python",
   "name": "python3"
  },
  "language_info": {
   "codemirror_mode": {
    "name": "ipython",
    "version": 3
   },
   "file_extension": ".py",
   "mimetype": "text/x-python",
   "name": "python",
   "nbconvert_exporter": "python",
   "pygments_lexer": "ipython3",
   "version": "3.5.6"
  }
 },
 "nbformat": 4,
 "nbformat_minor": 2
}
