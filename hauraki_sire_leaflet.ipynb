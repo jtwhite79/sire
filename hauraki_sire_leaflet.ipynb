{
 "cells": [
  {
   "cell_type": "markdown",
   "metadata": {},
   "source": [
    "# SIRE \n",
    "### stochastic impulse response emulator\n",
    "\n",
    "import heaps of python"
   ]
  },
  {
   "cell_type": "code",
   "execution_count": 1,
   "metadata": {},
   "outputs": [
    {
     "name": "stdout",
     "output_type": "stream",
     "text": [
      "no mprj\n"
     ]
    }
   ],
   "source": [
    "% matplotlib inline\n",
    "%config InlineBackend.close_figures=False \n",
    "from __future__ import print_function\n",
    "#from ipywidgets import interact, interactive, fixed, interact_manual\n",
    "# import jtplot module in notebook\n",
    "import os\n",
    "import ipywidgets as ipyw\n",
    "import matplotlib as mpl\n",
    "import matplotlib.pyplot as plt\n",
    "import ipyleaflet as ipyl\n",
    "from datetime import datetime\n",
    "import IPython\n",
    "import warnings\n",
    "warnings.filterwarnings(\"ignore\")\n",
    "import json\n",
    "from json import dumps\n",
    "import numpy as np\n",
    "import pandas as pd\n",
    "import pyemu\n",
    "\n",
    "import hauraki_sire"
   ]
  },
  {
   "cell_type": "markdown",
   "metadata": {},
   "source": [
    "# Land Use Sector Map"
   ]
  },
  {
   "cell_type": "code",
   "execution_count": 2,
   "metadata": {},
   "outputs": [],
   "source": [
    "# with open(os.path.join(\"sire\",\"sire_sector.json\"),\"r\") as f:\n",
    "#     lu_data = json.load(f)\n",
    "# labellu = ipyw.Label(layout=ipyw.Layout(width='100%'))\n",
    "# def hover_handler(event=None, id=None, properties=None):\n",
    "#     labellu.value = properties[\"secConcord\"]\n",
    "\n",
    "# geo = ipyl.GeoJSON(data=lu_data)\n",
    "# geo.on_hover(hover_handler)\n",
    "# mlu = ipyl.Map(center=[-37.65,175.65], zoom=10,layout=ipyw.Layout(height=\"10in\",width=\"6in\"))\n",
    "# mlu.add_layer(geo);\n",
    "# ipyw.VBox([labellu,mlu])"
   ]
  },
  {
   "cell_type": "markdown",
   "metadata": {},
   "source": [
    "### A bunch of widget hackery"
   ]
  },
  {
   "cell_type": "code",
   "execution_count": 3,
   "metadata": {},
   "outputs": [
    {
     "name": "stdout",
     "output_type": "stream",
     "text": [
      "ready!\n"
     ]
    }
   ],
   "source": [
    "m_load = ipyl.Map(center=[-37.65,175.65], zoom=9,layout=ipyw.Layout(height=\"6in\",width=\"3in\"))\n",
    "m_sfr = ipyl.Map(center=[-37.65,175.65], zoom=9,layout=ipyw.Layout(height=\"6in\",width=\"3in\"))\n",
    "m_ucn = ipyl.Map(center=[-37.65,175.65], zoom=9,layout=ipyw.Layout(height=\"6in\",width=\"3in\"))\n",
    "\n",
    "\n",
    "# with open(os.path.join(\"sire\",\"sire_sfr.json\"),\"r\") as f:\n",
    "#     sfr_data = json.load(f)\n",
    "\n",
    "# with open(os.path.join(\"sire\",\"sire_grid.json\"),\"r\") as f:\n",
    "#     ucn_data = json.load(f)    \n",
    "    \n",
    "# with open(os.path.join(\"sire\",\"sire_grid.json\"),\"r\") as f:\n",
    "#     load_data = json.load(f) \n",
    "# widget hackery\n",
    "lu_mn,lu_mx = -10,10 #min and max landuse change\n",
    "status_str = ipyw.Text()\n",
    "risk_str = ipyw.Text()\n",
    "dairy_str = ipyw.Text()\n",
    "hort_str = ipyw.Text()\n",
    "snb_str = ipyw.Text()\n",
    "forestry_str = ipyw.Text()\n",
    "other_str = ipyw.Text()\n",
    "str_dict = {\"dairy\":dairy_str,\n",
    "           \"hort\":hort_str,\"snb\":snb_str,\n",
    "           \"forestry\":forestry_str,\n",
    "           \"other\":other_str}\n",
    "def set_values(**kwargs):\n",
    "    for k,v in kwargs.items():\n",
    "        str_dict[k].value = str(v)\n",
    "def set_risk(risk):\n",
    "    risk_str.value = str(risk)\n",
    "w = ipyw.interactive(set_values,dairy=(lu_mn,lu_mx,1),\n",
    "                hort=(lu_mn,lu_mx,1),snb=(lu_mn,lu_mx,1),\n",
    "                forestry=(lu_mn,lu_mx,1),\n",
    "                other=(lu_mn,lu_mx,1))\n",
    "\n",
    "i = IPython.display.Audio(\"Dang.mp3\",autoplay=True)\n",
    "\n",
    "ax_lab_load = ipyw.Label(layout=ipyw.Layout(width='100%'))\n",
    "ax_lab_load.value = \"N loading change (delta kg/day)\"\n",
    "ax_lab_sw = ipyw.Label(layout=ipyw.Layout(width='100%'))\n",
    "ax_lab_sw.value = \"SW concentration change (delta mg/l)\"\n",
    "ax_lab_gw = ipyw.Label(layout=ipyw.Layout(width='100%'))\n",
    "ax_lab_gw.value = \"GW concentration change (delta mg/l)\"\n",
    "\n",
    "label_load = ipyw.Label(layout=ipyw.Layout(width='100%'))\n",
    "def load_hover_handler(event=None, id=None, properties=None):\n",
    "    label_load.value = \"row:{0}, col:{1}, delta kg:{2:8.2G}\".format(properties[\"row\"],\n",
    "                                                                           properties[\"column\"],\n",
    "                                                                           properties[\"response\"])\n",
    "\n",
    "label_sfr = ipyw.Label(layout=ipyw.Layout(width='100%'))\n",
    "def sfr_hover_handler(event=None, id=None, properties=None):\n",
    "    label_sfr.value = \"reachid:{0}, response (mg/l):{1:8.2G}\".format(properties[\"reachID\"],\n",
    "                                                                     properties[\"response\"])\n",
    "\n",
    "label_ucn = ipyw.Label(layout=ipyw.Layout(width='100%'))\n",
    "def ucn_hover_handler(event=None, id=None, properties=None):\n",
    "    label_ucn.value = \"row:{0}, col:{1}, response (mg/l):{2:8.2G}\".format(properties[\"row\"],\n",
    "                                                                           properties[\"column\"],\n",
    "                                                                          properties[\"response\"])\n",
    "\n",
    "plt.ioff()\n",
    "\n",
    "fig_ucn = plt.figure(figsize=(4.5,4.5))\n",
    "ax_ucn=plt.subplot(111)\n",
    "out_ucn=ipyw.Output()    \n",
    "def ucn_on_click(event=None, id=None, properties=None):\n",
    "#     ax_unc.clear()\n",
    "#     ax_unc.plot(np.random.randn(100),np.random.randn(100),'+')\n",
    "#     ax_unc.set_xlim(-3,3)\n",
    "#     ax_unc.set_ylim(-3,3)\n",
    "#     ax_unc.set_yticklabels([])  \n",
    "#     with out_unc:\n",
    "#         IPython.display.clear_output(wait=True)\n",
    "#         IPython.display.display(ax_unc.figure)\n",
    "    #print(properties)\n",
    "    ax = ax_ucn\n",
    "    ax.clear()\n",
    "    if properties is None:\n",
    "        ax.set_xticklabels([])\n",
    "        ax.set_yticklabels([])\n",
    "        ax.text(0.5,0.5,\"click on a cell\\nto plot\",ha=\"center\",va=\"center\",transform=ax.transAxes)\n",
    "        \n",
    "        with out_ucn:\n",
    "            \n",
    "            IPython.display.clear_output(wait=True)\n",
    "            IPython.display.display(ax.figure)\n",
    "        return\n",
    "    \n",
    "    #ax_sfr.plot(np.random.randn(100),np.random.randn(100),'+')\n",
    "    #ax_sfr.set_xlim(-3,3)\n",
    "    #ax_sfr.set_ylim(-3,3)\n",
    "    resp,resp_org = properties[\"response\"],properties[\"response_org\"]\n",
    "    risk,std = float(risk_str.value),properties[\"std\"]\n",
    "    c = properties[\"style\"][\"fillColor\"]\n",
    "    x,y = pyemu.plot.plot_utils.gaussian_distribution(resp_org,std)\n",
    "    ax.fill_between(x,0,y,alpha=0.5,facecolor=c)\n",
    "    ymn,ymx = ax.get_ylim()\n",
    "    ax.plot([resp,resp],[ymn,ymx],\"k--\")\n",
    "    ax.set_yticklabels([])\n",
    "    ax.set_ylim(ymn,ymx)\n",
    "    \n",
    "    ax.set_title(\"row:{0}, col:{1}, std:{2:10.3f}\".format(properties[\"row\"],properties[\"column\"],std))\n",
    "    ax.set_xlabel(\"response ($\\\\Delta\\\\frac{mg}{l}$)\")\n",
    "    ax.grid()\n",
    "    \n",
    "    with out_ucn:\n",
    "        IPython.display.clear_output(wait=True)\n",
    "        IPython.display.display(ax.figure)\n",
    "\n",
    "\n",
    "fig_sfr = plt.figure(figsize=(4.5,4.5))\n",
    "ax_sfr=plt.subplot(111)\n",
    "out_sfr=ipyw.Output()    \n",
    "def sfr_on_click(event=None, id=None, properties=None):\n",
    "    #print(properties)\n",
    "    ax = ax_sfr\n",
    "    ax.clear()\n",
    "    if properties is None:\n",
    "        ax.text(0.5,0.5,\"click on a reach\\nto plot\",ha=\"center\",va=\"center\",transform=ax.transAxes)\n",
    "        ax.set_xticklabels([])\n",
    "        ax.set_yticklabels([])\n",
    "        with out_sfr:\n",
    "            \n",
    "            IPython.display.clear_output(wait=True)\n",
    "            IPython.display.display(ax.figure)\n",
    "        return\n",
    "    \n",
    "    #ax_sfr.plot(np.random.randn(100),np.random.randn(100),'+')\n",
    "    #ax_sfr.set_xlim(-3,3)\n",
    "    #ax_sfr.set_ylim(-3,3)\n",
    "    resp,resp_org = properties[\"response\"],properties[\"response_org\"]\n",
    "    risk,std = float(risk_str.value),properties[\"std\"]\n",
    "    c = properties[\"style\"][\"fillColor\"]\n",
    "    x,y = pyemu.plot.plot_utils.gaussian_distribution(resp_org,std)\n",
    "    ax.fill_between(x,0,y,alpha=0.5,facecolor=c)\n",
    "    ymn,ymx = ax.get_ylim()\n",
    "    ax.plot([resp,resp],[ymn,ymx],\"k--\")\n",
    "    ax.set_yticklabels([])\n",
    "    ax.set_ylim(ymn,ymx)\n",
    "    ax.grid()\n",
    "    ax.set_xlabel(\"response ($\\\\Delta\\\\frac{mg}{l}$)\")\n",
    "    ax.set_title(\"reach:{0}, std:{1:10.3f}\".format(properties[\"reachID\"],std))\n",
    "    \n",
    "    with out_sfr:\n",
    "        IPython.display.clear_output(wait=True)\n",
    "        IPython.display.display(ax.figure)\n",
    "\n",
    "        \n",
    "\n",
    "        \n",
    "def on_button_clicked(b):  \n",
    "    status_str.value = ''\n",
    "    tol = 1.0e-3\n",
    "    risk = float(risk_str.value)\n",
    "    #risk = 0.025\n",
    "    status_str.value += \"calculating...\"\n",
    "    start = datetime.now()\n",
    "    lu_dict = {k:float(v.value) for k,v in str_dict.items()} \n",
    "    #status_str.value += \"took: {0}\".format((datetime.now()-s).total_seconds())\n",
    "    status_str.value += \"plotting...\"\n",
    "    #start = datetime.now()\n",
    "    s = datetime.now()\n",
    "    sfr_data,ucn_data,load_data = hauraki_sire.sire_lu_scenario_json(lu_dict,risk=risk)\n",
    "    geo = ipyl.GeoJSON(data=load_data)\n",
    "    geo.on_hover(load_hover_handler)\n",
    "    m_load.add_layer(geo) \n",
    "    geo = ipyl.GeoJSON(data=sfr_data)\n",
    "    geo.on_hover(sfr_hover_handler)\n",
    "    geo.on_click(sfr_on_click)\n",
    "    m_sfr.add_layer(geo) \n",
    "    geo = ipyl.GeoJSON(data=ucn_data)\n",
    "    geo.on_hover(ucn_hover_handler)\n",
    "    geo.on_click(ucn_on_click)\n",
    "    m_ucn.add_layer(geo)\n",
    "    sfr_on_click()\n",
    "    ucn_on_click()\n",
    "    status_str.value += \"took:{0}\".format((datetime.now() - start).total_seconds())\n",
    "    \n",
    "\n",
    "button = ipyw.Button(description=\"Get Some Science\")\n",
    "button.on_click(on_button_clicked)\n",
    "print(\"ready!\")\n",
    "#i"
   ]
  },
  {
   "cell_type": "markdown",
   "metadata": {},
   "source": [
    "# Let's do this!"
   ]
  },
  {
   "cell_type": "code",
   "execution_count": 4,
   "metadata": {
    "scrolled": false
   },
   "outputs": [
    {
     "name": "stdout",
     "output_type": "stream",
     "text": [
      "risk = probability that the nitrate concentration change\n",
      "       is less than what is shown\n"
     ]
    },
    {
     "data": {
      "application/vnd.jupyter.widget-view+json": {
       "model_id": "974ed36afb694abbb9e1030efbf070bd",
       "version_major": 2,
       "version_minor": 0
      },
      "text/html": [
       "<p>Failed to display Jupyter Widget of type <code>interactive</code>.</p>\n",
       "<p>\n",
       "  If you're reading this message in the Jupyter Notebook or JupyterLab Notebook, it may mean\n",
       "  that the widgets JavaScript is still loading. If this message persists, it\n",
       "  likely means that the widgets JavaScript library is either not installed or\n",
       "  not enabled. See the <a href=\"https://ipywidgets.readthedocs.io/en/stable/user_install.html\">Jupyter\n",
       "  Widgets Documentation</a> for setup instructions.\n",
       "</p>\n",
       "<p>\n",
       "  If you're reading this message in another frontend (for example, a static\n",
       "  rendering on GitHub or <a href=\"https://nbviewer.jupyter.org/\">NBViewer</a>),\n",
       "  it may mean that your frontend doesn't currently support widgets.\n",
       "</p>\n"
      ],
      "text/plain": [
       "interactive(children=(FloatSlider(value=0.5, description='risk', max=0.99, min=0.01, step=0.01), Output()), _dom_classes=('widget-interact',))"
      ]
     },
     "metadata": {},
     "output_type": "display_data"
    },
    {
     "name": "stdout",
     "output_type": "stream",
     "text": [
      "percent change in nitrate loading by land use sector\n"
     ]
    },
    {
     "data": {
      "application/vnd.jupyter.widget-view+json": {
       "model_id": "b3221f1be2f1485c92003d2c0872d5e5",
       "version_major": 2,
       "version_minor": 0
      },
      "text/html": [
       "<p>Failed to display Jupyter Widget of type <code>interactive</code>.</p>\n",
       "<p>\n",
       "  If you're reading this message in the Jupyter Notebook or JupyterLab Notebook, it may mean\n",
       "  that the widgets JavaScript is still loading. If this message persists, it\n",
       "  likely means that the widgets JavaScript library is either not installed or\n",
       "  not enabled. See the <a href=\"https://ipywidgets.readthedocs.io/en/stable/user_install.html\">Jupyter\n",
       "  Widgets Documentation</a> for setup instructions.\n",
       "</p>\n",
       "<p>\n",
       "  If you're reading this message in another frontend (for example, a static\n",
       "  rendering on GitHub or <a href=\"https://nbviewer.jupyter.org/\">NBViewer</a>),\n",
       "  it may mean that your frontend doesn't currently support widgets.\n",
       "</p>\n"
      ],
      "text/plain": [
       "interactive(children=(IntSlider(value=0, description='other', max=10, min=-10), IntSlider(value=0, description='dairy', max=10, min=-10), IntSlider(value=0, description='snb', max=10, min=-10), IntSlider(value=0, description='hort', max=10, min=-10), IntSlider(value=0, description='forestry', max=10, min=-10), Output()), _dom_classes=('widget-interact',))"
      ]
     },
     "metadata": {},
     "output_type": "display_data"
    },
    {
     "data": {
      "application/vnd.jupyter.widget-view+json": {
       "model_id": "442fce25d87945c1a6b829bf28ce08eb",
       "version_major": 2,
       "version_minor": 0
      },
      "text/html": [
       "<p>Failed to display Jupyter Widget of type <code>Button</code>.</p>\n",
       "<p>\n",
       "  If you're reading this message in the Jupyter Notebook or JupyterLab Notebook, it may mean\n",
       "  that the widgets JavaScript is still loading. If this message persists, it\n",
       "  likely means that the widgets JavaScript library is either not installed or\n",
       "  not enabled. See the <a href=\"https://ipywidgets.readthedocs.io/en/stable/user_install.html\">Jupyter\n",
       "  Widgets Documentation</a> for setup instructions.\n",
       "</p>\n",
       "<p>\n",
       "  If you're reading this message in another frontend (for example, a static\n",
       "  rendering on GitHub or <a href=\"https://nbviewer.jupyter.org/\">NBViewer</a>),\n",
       "  it may mean that your frontend doesn't currently support widgets.\n",
       "</p>\n"
      ],
      "text/plain": [
       "Button(description='Get Some Science', style=ButtonStyle())"
      ]
     },
     "metadata": {},
     "output_type": "display_data"
    },
    {
     "data": {
      "application/vnd.jupyter.widget-view+json": {
       "model_id": "b6948123b261490392534c29aaf1950f",
       "version_major": 2,
       "version_minor": 0
      },
      "text/html": [
       "<p>Failed to display Jupyter Widget of type <code>Text</code>.</p>\n",
       "<p>\n",
       "  If you're reading this message in the Jupyter Notebook or JupyterLab Notebook, it may mean\n",
       "  that the widgets JavaScript is still loading. If this message persists, it\n",
       "  likely means that the widgets JavaScript library is either not installed or\n",
       "  not enabled. See the <a href=\"https://ipywidgets.readthedocs.io/en/stable/user_install.html\">Jupyter\n",
       "  Widgets Documentation</a> for setup instructions.\n",
       "</p>\n",
       "<p>\n",
       "  If you're reading this message in another frontend (for example, a static\n",
       "  rendering on GitHub or <a href=\"https://nbviewer.jupyter.org/\">NBViewer</a>),\n",
       "  it may mean that your frontend doesn't currently support widgets.\n",
       "</p>\n"
      ],
      "text/plain": [
       "Text(value='')"
      ]
     },
     "metadata": {},
     "output_type": "display_data"
    },
    {
     "data": {
      "application/vnd.jupyter.widget-view+json": {
       "model_id": "c433e4c4c73a4fecb0db23a90b831110",
       "version_major": 2,
       "version_minor": 0
      },
      "text/html": [
       "<p>Failed to display Jupyter Widget of type <code>HBox</code>.</p>\n",
       "<p>\n",
       "  If you're reading this message in the Jupyter Notebook or JupyterLab Notebook, it may mean\n",
       "  that the widgets JavaScript is still loading. If this message persists, it\n",
       "  likely means that the widgets JavaScript library is either not installed or\n",
       "  not enabled. See the <a href=\"https://ipywidgets.readthedocs.io/en/stable/user_install.html\">Jupyter\n",
       "  Widgets Documentation</a> for setup instructions.\n",
       "</p>\n",
       "<p>\n",
       "  If you're reading this message in another frontend (for example, a static\n",
       "  rendering on GitHub or <a href=\"https://nbviewer.jupyter.org/\">NBViewer</a>),\n",
       "  it may mean that your frontend doesn't currently support widgets.\n",
       "</p>\n"
      ],
      "text/plain": [
       "HBox(children=(VBox(children=(Label(value='N loading change (delta kg/day)', layout=Layout(width='100%')), Label(value='', layout=Layout(width='100%')), Map(basemap={'url': 'https://{s}.tile.openstreetmap.org/{z}/{x}/{y}.png', 'attribution': 'Map data (c) <a href=\"https://openstreetmap.org\">OpenStreetMap</a> contributors', 'max_zoom': 19}, center=[-37.65, 175.65], layers=(TileLayer(base=True, max_zoom=19, min_zoom=1, options=['min_zoom', 'tile_size', 'detect_retina', 'attribution', 'max_zoom']),), layout=Layout(height='6in', width='3in'), options=['touch_zoom', 'zoom_animation_threshold', 'center', 'tap', 'inertia', 'tap_tolerance', 'min_zoom', 'zoom_start', 'close_popup_on_click', 'inertia_max_speed', 'scroll_wheel_zoom', 'world_copy_jump', 'keyboard', 'inertia_deceleration', 'basemap', 'attribution_control', 'max_zoom', 'keyboard_zoom_offset', 'keyboard_pan_offset', 'zoom_control', 'zoom', 'dragging', 'bounce_at_zoom_limits', 'double_click_zoom', 'box_zoom'], zoom=9))), VBox(children=(Label(value='GW concentration change (delta mg/l)', layout=Layout(width='100%')), Label(value='', layout=Layout(width='100%')), Map(basemap={'url': 'https://{s}.tile.openstreetmap.org/{z}/{x}/{y}.png', 'attribution': 'Map data (c) <a href=\"https://openstreetmap.org\">OpenStreetMap</a> contributors', 'max_zoom': 19}, center=[-37.65, 175.65], layers=(TileLayer(base=True, max_zoom=19, min_zoom=1, options=['min_zoom', 'tile_size', 'detect_retina', 'attribution', 'max_zoom']),), layout=Layout(height='6in', width='3in'), options=['touch_zoom', 'zoom_animation_threshold', 'center', 'tap', 'inertia', 'tap_tolerance', 'min_zoom', 'zoom_start', 'close_popup_on_click', 'inertia_max_speed', 'scroll_wheel_zoom', 'world_copy_jump', 'keyboard', 'inertia_deceleration', 'basemap', 'attribution_control', 'max_zoom', 'keyboard_zoom_offset', 'keyboard_pan_offset', 'zoom_control', 'zoom', 'dragging', 'bounce_at_zoom_limits', 'double_click_zoom', 'box_zoom'], zoom=9), Output())), VBox(children=(Label(value='SW concentration change (delta mg/l)', layout=Layout(width='100%')), Label(value='', layout=Layout(width='100%')), Map(basemap={'url': 'https://{s}.tile.openstreetmap.org/{z}/{x}/{y}.png', 'attribution': 'Map data (c) <a href=\"https://openstreetmap.org\">OpenStreetMap</a> contributors', 'max_zoom': 19}, center=[-37.65, 175.65], layers=(TileLayer(base=True, max_zoom=19, min_zoom=1, options=['min_zoom', 'tile_size', 'detect_retina', 'attribution', 'max_zoom']),), layout=Layout(height='6in', width='3in'), options=['touch_zoom', 'zoom_animation_threshold', 'center', 'tap', 'inertia', 'tap_tolerance', 'min_zoom', 'zoom_start', 'close_popup_on_click', 'inertia_max_speed', 'scroll_wheel_zoom', 'world_copy_jump', 'keyboard', 'inertia_deceleration', 'basemap', 'attribution_control', 'max_zoom', 'keyboard_zoom_offset', 'keyboard_pan_offset', 'zoom_control', 'zoom', 'dragging', 'bounce_at_zoom_limits', 'double_click_zoom', 'box_zoom'], zoom=9), Output()))))"
      ]
     },
     "metadata": {},
     "output_type": "display_data"
    }
   ],
   "source": [
    "print(\"risk = probability that the nitrate concentration change\\n       is less than what is shown\")\n",
    "r = ipyw.interact(set_risk,risk=(0.01,0.99,0.01))\n",
    "print(\"percent change in nitrate loading by land use sector\")\n",
    "display(w)\n",
    "display(button)\n",
    "display(status_str)\n",
    "#ipyw.HBox([ipyw.VBox([labellu,mlu]),ipyw.VBox([label_sfr,m_sfr])])\n",
    "ipyw.HBox([ipyw.VBox([ax_lab_load,label_load,m_load]),\n",
    "           ipyw.VBox([ax_lab_gw,label_ucn,m_ucn,out_ucn]),\n",
    "           ipyw.VBox([ax_lab_sw,label_sfr,m_sfr,out_sfr])])"
   ]
  },
  {
   "cell_type": "code",
   "execution_count": null,
   "metadata": {},
   "outputs": [],
   "source": []
  },
  {
   "cell_type": "code",
   "execution_count": null,
   "metadata": {},
   "outputs": [],
   "source": []
  },
  {
   "cell_type": "code",
   "execution_count": null,
   "metadata": {},
   "outputs": [],
   "source": []
  },
  {
   "cell_type": "code",
   "execution_count": null,
   "metadata": {},
   "outputs": [],
   "source": []
  }
 ],
 "metadata": {
  "kernelspec": {
   "display_name": "Python 3",
   "language": "python",
   "name": "python3"
  },
  "language_info": {
   "codemirror_mode": {
    "name": "ipython",
    "version": 3
   },
   "file_extension": ".py",
   "mimetype": "text/x-python",
   "name": "python",
   "nbconvert_exporter": "python",
   "pygments_lexer": "ipython3",
   "version": "3.5.4"
  }
 },
 "nbformat": 4,
 "nbformat_minor": 2
}
