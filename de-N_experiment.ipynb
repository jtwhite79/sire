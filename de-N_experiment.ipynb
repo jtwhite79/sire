{
 "cells": [
  {
   "cell_type": "markdown",
   "metadata": {},
   "source": [
    "# De-N nonlinearity experiment\n",
    "\n",
    "## build the MODFLOW and MT3DUSGS models"
   ]
  },
  {
   "cell_type": "code",
   "execution_count": 33,
   "metadata": {},
   "outputs": [],
   "source": [
    "import os\n",
    "import numpy as np\n",
    "import pandas as pd\n",
    "import matplotlib.pyplot as plt\n",
    "\n",
    "import flopy\n",
    "import pyemu\n",
    "model_ws = \"den_exp\""
   ]
  },
  {
   "cell_type": "code",
   "execution_count": 34,
   "metadata": {},
   "outputs": [],
   "source": []
  },
  {
   "cell_type": "code",
   "execution_count": 82,
   "metadata": {},
   "outputs": [
    {
     "name": "stdout",
     "output_type": "stream",
     "text": [
      "FloPy is using the following  executable to run the model: /Users/jeremyw/bin/mfnwt\n",
      "\n",
      "                                  MODFLOW-NWT-SWR1 \n",
      "    U.S. GEOLOGICAL SURVEY MODULAR FINITE-DIFFERENCE GROUNDWATER-FLOW MODEL\n",
      "                             WITH NEWTON FORMULATION\n",
      "                             Version 1.1.3, 8/01/2017                        \n",
      "                    BASED ON MODFLOW-2005 Version 1.11.0 08/08/2013                       \n",
      "\n",
      "                    SWR1 Version 1.04.0 09/15/2016                       \n",
      "\n",
      " Using NAME file: den.nam \n",
      " Run start date and time (yyyy/mm/dd hh:mm:ss): 2018/09/24  8:17:56\n",
      "\n",
      " Solving:  Stress period:     1    Time step:     1    Groundwater-Flow Eqn.\n",
      " Run end date and time (yyyy/mm/dd hh:mm:ss): 2018/09/24  8:17:56\n",
      " Elapsed run time:  0.009 Seconds\n",
      "\n",
      "  Normal termination of simulation\n"
     ]
    },
    {
     "data": {
      "text/plain": [
       "(True, [])"
      ]
     },
     "execution_count": 82,
     "metadata": {},
     "output_type": "execute_result"
    }
   ],
   "source": [
    "m = flopy.modflow.Modflow(\"den\",model_ws=model_ws,version=\"mfnwt\",exe_name=\"mfnwt\")\n",
    "d = flopy.modflow.ModflowDis(m,nrow=1,nlay=2,ncol=100,nper=1,delr=1000,delc=1000,top=10,botm=[0,-100],perlen=365.25*20,steady=True)\n",
    "d = flopy.modflow.ModflowBas(m,strt=10)\n",
    "d = flopy.modflow.ModflowLpf(m,laytyp=1,hk=10.0,vka=1.0)\n",
    "d = flopy.modflow.ModflowPcg(m)\n",
    "d = flopy.modflow.ModflowOc(m)#,chedfm=\"({0}E15.6)\".format(m.ncol))\n",
    "d = flopy.modflow.ModflowLmt(m,output_file_format=\"formatted\")\n",
    "ghb_data = [[0,0,0,0.0,100.0],[0,0,m.ncol-1,9.0,100.0]]\n",
    "ghb = flopy.modflow.ModflowGhb(m,stress_period_data={0:ghb_data})\n",
    "m.write_input()\n",
    "m.run_model()"
   ]
  },
  {
   "cell_type": "code",
   "execution_count": 83,
   "metadata": {},
   "outputs": [
    {
     "data": {
      "text/plain": [
       "<matplotlib.axes._subplots.AxesSubplot at 0x181b8599b0>"
      ]
     },
     "execution_count": 83,
     "metadata": {},
     "output_type": "execute_result"
    },
    {
     "data": {
      "image/png": "[encoded data removed]",
      "text/plain": [
       "<matplotlib.figure.Figure at 0x181b802ef0>"
      ]
     },
     "metadata": {
      "needs_background": "light"
     },
     "output_type": "display_data"
    }
   ],
   "source": [
    "hds = flopy.utils.HeadFile(os.path.join(m.model_ws,m.name+\".hds\"))\n",
    "fig = plt.figure(figsize=(10,2))\n",
    "hds.plot(colorbar=True,mflay=0)"
   ]
  },
  {
   "cell_type": "code",
   "execution_count": 84,
   "metadata": {},
   "outputs": [
    {
     "name": "stdout",
     "output_type": "stream",
     "text": [
      "Specified value of ftlfree conflicts with FTL file format\n",
      "Switching ftlfree from False to True\n",
      "FloPy is using the following  executable to run the model: /Users/jeremyw/bin/mt3dusgs\n",
      "\n",
      " MT3D-USGS - Modular 3D Multi-Species Transport Model [Ver 1.00.00] \n",
      " and based on MT3DMS. MT3D-USGS developed in cooperation by \n",
      " S.S. Papadopulos & Associates and the U.S. Geological Survey\n",
      "\n",
      " Using NAME File: den_mt3d.nam\n",
      "\n",
      " STRESS PERIOD NO.    1\n",
      "\n",
      " TIME STEP NO.    1\n",
      " FROM TIME =   0.0000     TO    365.20    \n",
      "\n",
      " Transport Step:    1   Step Size:   365.2     Total Elapsed Time:   365.20    \n",
      " Outer Iter.  1  Inner Iter.  1:  Max. DC =  0.2857      [K,I,J]    1    1  100\n",
      " Outer Iter.  1  Inner Iter.  2:  Max. DC =  0.5960E-07  [K,I,J]    1    1   40\n",
      "\n",
      " STRESS PERIOD NO.    2\n",
      "\n",
      " TIME STEP NO.    1\n",
      " FROM TIME =   365.20     TO    730.40    \n",
      "\n",
      " Transport Step:    1   Step Size:   365.2     Total Elapsed Time:   730.40    \n",
      " Outer Iter.  1  Inner Iter.  1:  Max. DC =  0.2786      [K,I,J]    1    1  100\n",
      " Outer Iter.  1  Inner Iter.  2:  Max. DC =  0.5960E-07  [K,I,J]    2    1   38\n",
      "\n",
      " STRESS PERIOD NO.    3\n",
      "\n",
      " TIME STEP NO.    1\n",
      " FROM TIME =   730.40     TO    1095.6    \n",
      "\n",
      " Transport Step:    1   Step Size:   365.2     Total Elapsed Time:   1095.6    \n",
      " Outer Iter.  1  Inner Iter.  1:  Max. DC =  0.2717      [K,I,J]    1    1  100\n",
      " Outer Iter.  1  Inner Iter.  2:  Max. DC =   0.000      [K,I,J]    1    1    1\n",
      "\n",
      " STRESS PERIOD NO.    4\n",
      "\n",
      " TIME STEP NO.    1\n",
      " FROM TIME =   1095.6     TO    1460.8    \n",
      "\n",
      " Transport Step:    1   Step Size:   365.2     Total Elapsed Time:   1460.8    \n",
      " Outer Iter.  1  Inner Iter.  1:  Max. DC =  0.2676      [K,I,J]    1    1   99\n",
      " Outer Iter.  1  Inner Iter.  2:  Max. DC =  0.5960E-07  [K,I,J]    1    1   47\n",
      "\n",
      " STRESS PERIOD NO.    5\n",
      "\n",
      " TIME STEP NO.    1\n",
      " FROM TIME =   1460.8     TO    1826.0    \n",
      "\n",
      " Transport Step:    1   Step Size:   365.2     Total Elapsed Time:   1826.0    \n",
      " Outer Iter.  1  Inner Iter.  1:  Max. DC =  0.2676      [K,I,J]    1    1   99\n",
      " Outer Iter.  1  Inner Iter.  2:  Max. DC =   0.000      [K,I,J]    1    1    1\n",
      "\n",
      " STRESS PERIOD NO.    6\n",
      "\n",
      " TIME STEP NO.    1\n",
      " FROM TIME =   1826.0     TO    2191.2    \n",
      "\n",
      " Transport Step:    1   Step Size:   365.2     Total Elapsed Time:   2191.2    \n",
      " Outer Iter.  1  Inner Iter.  1:  Max. DC =  0.2675      [K,I,J]    1    1   99\n",
      " Outer Iter.  1  Inner Iter.  2:  Max. DC =   0.000      [K,I,J]    1    1    1\n",
      "\n",
      " STRESS PERIOD NO.    7\n",
      "\n",
      " TIME STEP NO.    1\n",
      " FROM TIME =   2191.2     TO    2556.4    \n",
      "\n",
      " Transport Step:    1   Step Size:   365.2     Total Elapsed Time:   2556.4    \n",
      " Outer Iter.  1  Inner Iter.  1:  Max. DC =  0.2675      [K,I,J]    1    1   98\n",
      " Outer Iter.  1  Inner Iter.  2:  Max. DC =   0.000      [K,I,J]    1    1    1\n",
      "\n",
      " STRESS PERIOD NO.    8\n",
      "\n",
      " TIME STEP NO.    1\n",
      " FROM TIME =   2556.4     TO    2921.6    \n",
      "\n",
      " Transport Step:    1   Step Size:   365.2     Total Elapsed Time:   2921.6    \n",
      " Outer Iter.  1  Inner Iter.  1:  Max. DC =  0.2675      [K,I,J]    1    1   57\n",
      " Outer Iter.  1  Inner Iter.  2:  Max. DC =   0.000      [K,I,J]    1    1    1\n",
      "\n",
      " STRESS PERIOD NO.    9\n",
      "\n",
      " TIME STEP NO.    1\n",
      " FROM TIME =   2921.6     TO    3286.8    \n",
      "\n",
      " Transport Step:    1   Step Size:   365.2     Total Elapsed Time:   3286.8    \n",
      " Outer Iter.  1  Inner Iter.  1:  Max. DC =  0.2675      [K,I,J]    1    1   68\n",
      " Outer Iter.  1  Inner Iter.  2:  Max. DC =   0.000      [K,I,J]    1    1    1\n",
      "\n",
      " STRESS PERIOD NO.   10\n",
      "\n",
      " TIME STEP NO.    1\n",
      " FROM TIME =   3286.8     TO    3652.0    \n",
      "\n",
      " Transport Step:    1   Step Size:   365.2     Total Elapsed Time:   3652.0    \n",
      " Outer Iter.  1  Inner Iter.  1:  Max. DC =  0.2675      [K,I,J]    1    1   17\n",
      " Outer Iter.  1  Inner Iter.  2:  Max. DC =  0.5960E-07  [K,I,J]    2    1   55\n",
      "\n",
      " STRESS PERIOD NO.   11\n",
      "\n",
      " TIME STEP NO.    1\n",
      " FROM TIME =   3652.0     TO    4017.2    \n",
      "\n",
      " Transport Step:    1   Step Size:   365.2     Total Elapsed Time:   4017.2    \n",
      " Outer Iter.  1  Inner Iter.  1:  Max. DC =  0.2675      [K,I,J]    1    1   17\n",
      " Outer Iter.  1  Inner Iter.  2:  Max. DC =  0.5960E-07  [K,I,J]    2    1   70\n",
      "\n",
      " STRESS PERIOD NO.   12\n",
      "\n",
      " TIME STEP NO.    1\n",
      " FROM TIME =   4017.2     TO    4382.4    \n",
      "\n",
      " Transport Step:    1   Step Size:   365.2     Total Elapsed Time:   4382.4    \n",
      " Outer Iter.  1  Inner Iter.  1:  Max. DC =  0.2675      [K,I,J]    1    1   67\n",
      " Outer Iter.  1  Inner Iter.  2:  Max. DC =  0.5960E-07  [K,I,J]    2    1   38\n",
      "\n",
      " STRESS PERIOD NO.   13\n",
      "\n",
      " TIME STEP NO.    1\n",
      " FROM TIME =   4382.4     TO    4747.6    \n",
      "\n",
      " Transport Step:    1   Step Size:   365.2     Total Elapsed Time:   4747.6    \n",
      " Outer Iter.  1  Inner Iter.  1:  Max. DC =  0.2675      [K,I,J]    1    1   67\n",
      " Outer Iter.  1  Inner Iter.  2:  Max. DC =  0.5960E-07  [K,I,J]    1    1   56\n",
      "\n",
      " STRESS PERIOD NO.   14\n",
      "\n",
      " TIME STEP NO.    1\n",
      " FROM TIME =   4747.6     TO    5112.8    \n",
      "\n",
      " Transport Step:    1   Step Size:   365.2     Total Elapsed Time:   5112.8    \n",
      " Outer Iter.  1  Inner Iter.  1:  Max. DC =  0.2675      [K,I,J]    1    1   67\n",
      " Outer Iter.  1  Inner Iter.  2:  Max. DC =   0.000      [K,I,J]    1    1    1\n",
      "\n",
      " STRESS PERIOD NO.   15\n",
      "\n",
      " TIME STEP NO.    1\n",
      " FROM TIME =   5112.8     TO    5478.0    \n",
      "\n",
      " Transport Step:    1   Step Size:   365.2     Total Elapsed Time:   5478.0    \n",
      " Outer Iter.  1  Inner Iter.  1:  Max. DC =  0.2675      [K,I,J]    1    1   67\n",
      " Outer Iter.  1  Inner Iter.  2:  Max. DC =   0.000      [K,I,J]    1    1    1\n",
      "\n",
      " STRESS PERIOD NO.   16\n",
      "\n",
      " TIME STEP NO.    1\n",
      " FROM TIME =   5478.0     TO    5843.2    \n",
      "\n",
      " Transport Step:    1   Step Size:   365.2     Total Elapsed Time:   5843.2    \n",
      " Outer Iter.  1  Inner Iter.  1:  Max. DC =  0.2675      [K,I,J]    1    1   67\n",
      " Outer Iter.  1  Inner Iter.  2:  Max. DC =   0.000      [K,I,J]    1    1    1\n",
      "\n",
      " STRESS PERIOD NO.   17\n",
      "\n",
      " TIME STEP NO.    1\n",
      " FROM TIME =   5843.2     TO    6208.4    \n",
      "\n",
      " Transport Step:    1   Step Size:   365.2     Total Elapsed Time:   6208.4    \n",
      " Outer Iter.  1  Inner Iter.  1:  Max. DC =  0.2675      [K,I,J]    2    1   71\n",
      " Outer Iter.  1  Inner Iter.  2:  Max. DC =   0.000      [K,I,J]    1    1    1\n",
      "\n",
      " STRESS PERIOD NO.   18\n",
      "\n",
      " TIME STEP NO.    1\n",
      " FROM TIME =   6208.4     TO    6573.6    \n",
      "\n",
      " Transport Step:    1   Step Size:   365.2     Total Elapsed Time:   6573.6    \n",
      " Outer Iter.  1  Inner Iter.  1:  Max. DC =  0.2675      [K,I,J]    1    1   67\n",
      " Outer Iter.  1  Inner Iter.  2:  Max. DC =  0.5960E-07  [K,I,J]    2    1   10\n",
      "\n",
      " STRESS PERIOD NO.   19\n",
      "\n",
      " TIME STEP NO.    1\n",
      " FROM TIME =   6573.6     TO    6938.8    \n",
      "\n",
      " Transport Step:    1   Step Size:   365.2     Total Elapsed Time:   6938.8    \n",
      " Outer Iter.  1  Inner Iter.  1:  Max. DC =  0.2675      [K,I,J]    1    1   67\n",
      " Outer Iter.  1  Inner Iter.  2:  Max. DC =  0.5960E-07  [K,I,J]    2    1   38\n",
      "\n",
      " STRESS PERIOD NO.   20\n",
      "\n",
      " TIME STEP NO.    1\n",
      " FROM TIME =   6938.8     TO    7304.0    \n",
      "\n",
      " Transport Step:    1   Step Size:   365.2     Total Elapsed Time:   7304.0    \n",
      " Outer Iter.  1  Inner Iter.  1:  Max. DC =  0.2675      [K,I,J]    2    1   71\n",
      " Outer Iter.  1  Inner Iter.  2:  Max. DC =  0.5960E-07  [K,I,J]    1    1   90\n",
      "\n",
      " Program completed.   Total CPU time:  000 minutes  0.032 seconds\n"
     ]
    },
    {
     "data": {
      "text/plain": [
       "(False, [])"
      ]
     },
     "execution_count": 84,
     "metadata": {},
     "output_type": "execute_result"
    }
   ],
   "source": [
    "mt = flopy.mt3d.Mt3dms(\"den_mt3d\",model_ws=model_ws,modflowmodel=m,exe_name=\"mt3dusgs\")\n",
    "nper = 20\n",
    "perlen = np.zeros((nper)) + 365.25\n",
    "d = flopy.mt3d.Mt3dBtn(mt,nper=nper,sconc=0.5/1000.0,prsity=0.1,perlen=perlen,nstp=1,tsmult=1.0)\n",
    "d = flopy.mt3d.Mt3dGcg(mt)\n",
    "d = flopy.mt3d.Mt3dAdv(mt,mixelm=0)\n",
    "d = flopy.mt3d.Mt3dDsp(mt,al=0.01,trpt=0.1)\n",
    "d = flopy.mt3d.Mt3dRct(mt,isothm=0,ireact=1,igetsc=0,rc1=0.001)\n",
    "id = flopy.mt3d.Mt3dSsm.itype_dict()\n",
    "ssm_data_load = [[0,0,m.ncol-1,10.0,15],[0,0,0,0.0,id[\"GHB\"]],[0,0,m.ncol-1,0.0,id[\"GHB\"]]]\n",
    "ssm_data_off = ssm_data_load.copy()\n",
    "ssm_data_off[0][-2] = 0.0\n",
    "d = flopy.mt3d.Mt3dSsm(mt,stress_period_data={0:ssm_data_load,10:ssm_data_off},mxss=3)\n",
    "mt.write_input()\n",
    "mt.run_model()"
   ]
  },
  {
   "cell_type": "code",
   "execution_count": null,
   "metadata": {},
   "outputs": [],
   "source": []
  }
 ],
 "metadata": {
  "kernelspec": {
   "display_name": "Python 3",
   "language": "python",
   "name": "python3"
  },
  "language_info": {
   "codemirror_mode": {
    "name": "ipython",
    "version": 3
   },
   "file_extension": ".py",
   "mimetype": "text/x-python",
   "name": "python",
   "nbconvert_exporter": "python",
   "pygments_lexer": "ipython3",
   "version": "3.5.6"
  }
 },
 "nbformat": 4,
 "nbformat_minor": 2
}
